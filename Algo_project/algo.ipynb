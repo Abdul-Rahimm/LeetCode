{
 "cells": [
  {
   "cell_type": "markdown",
   "metadata": {},
   "source": [
    "# Line intersection\n",
    "\n",
    "Solving the Classical Problem of Line intersection through 3 approaches. \n",
    "\n",
    "### GUI always makes it better\n",
    "\n",
    "> **Note**: Define the testcases carefully. \n"
   ]
  },
  {
   "cell_type": "code",
   "execution_count": 11,
   "metadata": {},
   "outputs": [
    {
     "name": "stdout",
     "output_type": "stream",
     "text": [
      "Lines intersect.\n",
      "Intersection point: (5.0, 10.0)\n"
     ]
    },
    {
     "data": {
      "image/png": "[encoded data removed]",
      "text/plain": [
       "<Figure size 640x480 with 1 Axes>"
      ]
     },
     "metadata": {},
     "output_type": "display_data"
    }
   ],
   "source": [
    "import matplotlib.pyplot as plt\n",
    "\n",
    "def check_intersection(a, b, c, d):\n",
    "    # Vectors representing the lines AB and CD\n",
    "    vector_ab = (b[0] - a[0], b[1] - a[1])\n",
    "    vector_cd = (d[0] - c[0], d[1] - c[1])\n",
    "\n",
    "    # Cross product of vectors to check for parallel lines\n",
    "    cross_product = vector_ab[0] * vector_cd[1] - vector_ab[1] * vector_cd[0]\n",
    "\n",
    "    if cross_product == 0:\n",
    "        # Lines are parallel, check for colinearity and overlap\n",
    "        vector_ca = (a[0] - c[0], a[1] - c[1])\n",
    "        # Check if line CD is completely on line AB\n",
    "        if vector_ab[0] * vector_ca[1] - vector_ab[1] * vector_ca[0] == 0:\n",
    "            return True, (c[0], c[1])  # Lines are colinear and overlap\n",
    "        return False, None  # Lines are parallel and non-overlapping\n",
    "\n",
    "    # Vector from C to A\n",
    "    vector_ca = (a[0] - c[0], a[1] - c[1])\n",
    "\n",
    "    # t and u are parameters for the lines AB and CD, respectively\n",
    "    t = (vector_cd[0] * vector_ca[1] - vector_cd[1] * vector_ca[0]) / cross_product\n",
    "    u = (vector_ab[0] * vector_ca[1] - vector_ab[1] * vector_ca[0]) / cross_product\n",
    "\n",
    "    # Check if intersection point lies on both line segments\n",
    "    if 0 <= t <= 1 and 0 <= u <= 1:\n",
    "        x_intersection = a[0] + t * vector_ab[0]\n",
    "        y_intersection = a[1] + t * vector_ab[1]\n",
    "        return True, (x_intersection, y_intersection)\n",
    "\n",
    "    return False, None\n",
    "\n",
    "# Input four points (x, y)\n",
    "a = tuple(map(float, input(\"Enter point A (x, y): \").split()))\n",
    "b = tuple(map(float, input(\"Enter point B (x, y): \").split()))\n",
    "c = tuple(map(float, input(\"Enter point C (x, y): \").split()))\n",
    "d = tuple(map(float, input(\"Enter point D (x, y): \").split()))\n",
    "\n",
    "# Check if lines intersect\n",
    "intersect, intersection_point = check_intersection(a, b, c, d)\n",
    "\n",
    "# Report the result\n",
    "if intersect:\n",
    "    print(\"Lines intersect.\")\n",
    "    print(\"Intersection point:\", intersection_point)\n",
    "else:\n",
    "    print(\"Lines do not intersect.\")\n",
    "\n",
    "# Plotting the lines\n",
    "plt.plot([a[0], b[0]], [a[1], b[1]], label='Line AB')\n",
    "plt.plot([c[0], d[0]], [c[1], d[1]], label='Line CD')\n",
    "\n",
    "# Marking the points\n",
    "plt.scatter([a[0], b[0], c[0], d[0]], [a[1], b[1], c[1], d[1]], color='red')\n",
    "\n",
    "# Adding labels and legend\n",
    "plt.title('Lines AB and CD')\n",
    "plt.xlabel('X-axis')\n",
    "plt.ylabel('Y-axis')\n",
    "plt.legend()\n",
    "\n",
    "# Display the plot\n",
    "plt.show()\n"
   ]
  },
  {
   "cell_type": "markdown",
   "metadata": {},
   "source": [
    "### Takes input via Mouse\n"
   ]
  },
  {
   "cell_type": "code",
   "execution_count": 16,
   "metadata": {},
   "outputs": [
    {
     "ename": "ModuleNotFoundError",
     "evalue": "No module named 'mplcursors'",
     "output_type": "error",
     "traceback": [
      "\u001b[1;31m---------------------------------------------------------------------------\u001b[0m",
      "\u001b[1;31mModuleNotFoundError\u001b[0m                       Traceback (most recent call last)",
      "\u001b[1;32m~\\AppData\\Local\\Temp\\ipykernel_12300\\3580310574.py\u001b[0m in \u001b[0;36m<module>\u001b[1;34m\u001b[0m\n\u001b[0;32m      1\u001b[0m \u001b[1;32mimport\u001b[0m \u001b[0mmatplotlib\u001b[0m\u001b[1;33m.\u001b[0m\u001b[0mpyplot\u001b[0m \u001b[1;32mas\u001b[0m \u001b[0mplt\u001b[0m\u001b[1;33m\u001b[0m\u001b[1;33m\u001b[0m\u001b[0m\n\u001b[1;32m----> 2\u001b[1;33m \u001b[1;32mimport\u001b[0m \u001b[0mmplcursors\u001b[0m\u001b[1;33m\u001b[0m\u001b[1;33m\u001b[0m\u001b[0m\n\u001b[0m\u001b[0;32m      3\u001b[0m \u001b[1;33m\u001b[0m\u001b[0m\n\u001b[0;32m      4\u001b[0m \u001b[1;32mdef\u001b[0m \u001b[0mcheck_intersection\u001b[0m\u001b[1;33m(\u001b[0m\u001b[0ma\u001b[0m\u001b[1;33m,\u001b[0m \u001b[0mb\u001b[0m\u001b[1;33m,\u001b[0m \u001b[0mc\u001b[0m\u001b[1;33m,\u001b[0m \u001b[0md\u001b[0m\u001b[1;33m)\u001b[0m\u001b[1;33m:\u001b[0m\u001b[1;33m\u001b[0m\u001b[1;33m\u001b[0m\u001b[0m\n\u001b[0;32m      5\u001b[0m     \u001b[1;31m# Vectors representing the lines AB and CD\u001b[0m\u001b[1;33m\u001b[0m\u001b[1;33m\u001b[0m\u001b[0m\n",
      "\u001b[1;31mModuleNotFoundError\u001b[0m: No module named 'mplcursors'"
     ]
    }
   ],
   "source": [
    "import matplotlib.pyplot as plt\n",
    "import mplcursors\n",
    "\n",
    "def check_intersection(a, b, c, d):\n",
    "    # Vectors representing the lines AB and CD\n",
    "    vector_ab = (b[0] - a[0], b[1] - a[1])\n",
    "    vector_cd = (d[0] - c[0], d[1] - c[1])\n",
    "\n",
    "    # Cross product of vectors to check for parallel lines\n",
    "    cross_product = vector_ab[0] * vector_cd[1] - vector_ab[1] * vector_cd[0]\n",
    "\n",
    "    if cross_product == 0:\n",
    "        # Lines are parallel, check for colinearity and overlap\n",
    "        vector_ca = (a[0] - c[0], a[1] - c[1])\n",
    "        # Check if line CD is completely on line AB\n",
    "        if vector_ab[0] * vector_ca[1] - vector_ab[1] * vector_ca[0] == 0:\n",
    "            return True, (c[0], c[1])  # Lines are colinear and overlap\n",
    "        return False, None  # Lines are parallel and non-overlapping\n",
    "\n",
    "    # Vector from C to A\n",
    "    vector_ca = (a[0] - c[0], a[1] - c[1])\n",
    "\n",
    "    # t and u are parameters for the lines AB and CD, respectively\n",
    "    t = (vector_cd[0] * vector_ca[1] - vector_cd[1] * vector_ca[0]) / cross_product\n",
    "    u = (vector_ab[0] * vector_ca[1] - vector_ab[1] * vector_ca[0]) / cross_product\n",
    "\n",
    "    # Check if intersection point lies on both line segments\n",
    "    if 0 <= t <= 1 and 0 <= u <= 1:\n",
    "        x_intersection = a[0] + t * vector_ab[0]\n",
    "        y_intersection = a[1] + t * vector_ab[1]\n",
    "        return True, (x_intersection, y_intersection)\n",
    "\n",
    "    return False, None\n",
    "\n",
    "def on_click(event):\n",
    "    if len(on_click.coordinates) < 4:\n",
    "        print(f\"Clicked at ({event.xdata}, {event.ydata})\")\n",
    "        on_click.coordinates.append((event.xdata, event.ydata))\n",
    "        plt.scatter(event.xdata, event.ydata, color='red')\n",
    "    if len(on_click.coordinates) == 4:\n",
    "        mplcursors.cursor(hover=False).disable()  # Disable cursor after all points are clicked\n",
    "\n",
    "\n",
    "# Register the callback function for mouse clicks\n",
    "fig, ax = plt.subplots()\n",
    "on_click.coordinates = []\n",
    "mplcursors.cursor(hover=False).connect(\"add\", on_click)\n",
    "\n",
    "# Set up the plot\n",
    "plt.title('Click on the Coordinate System to Enter Points')\n",
    "plt.xlabel('X-axis')\n",
    "plt.ylabel('Y-axis')\n",
    "\n",
    "# Display the plot\n",
    "plt.show()\n",
    "\n",
    "# Check if lines intersect\n",
    "user_coordinates = on_click.coordinates\n",
    "intersect, intersection_point = check_intersection(user_coordinates[0], user_coordinates[1],\n",
    "                                                   user_coordinates[2], user_coordinates[3])\n",
    "\n",
    "# Report the result\n",
    "if intersect:\n",
    "    print(\"Lines intersect.\")\n",
    "    print(\"Intersection point:\", intersection_point)\n",
    "else:\n",
    "    print(\"Lines do not intersect.\")"
   ]
  }
 ],
 "metadata": {
  "kernelspec": {
   "display_name": "base",
   "language": "python",
   "name": "python3"
  },
  "language_info": {
   "codemirror_mode": {
    "name": "ipython",
    "version": 3
   },
   "file_extension": ".py",
   "mimetype": "text/x-python",
   "name": "python",
   "nbconvert_exporter": "python",
   "pygments_lexer": "ipython3",
   "version": "3.9.13"
  }
 },
 "nbformat": 4,
 "nbformat_minor": 2
}
